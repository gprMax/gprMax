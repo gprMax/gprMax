{
 "cells": [
  {
   "cell_type": "code",
   "execution_count": 1,
   "id": "e38889b9",
   "metadata": {},
   "outputs": [
    {
     "name": "stdout",
     "output_type": "stream",
     "text": [
      "Overwriting antenna_wire_dipole_fs.in\n"
     ]
    }
   ],
   "source": [
    "%%writefile antenna_wire_dipole_fs.in\n",
    "#title: antenna_wire_dipole_fs\n",
    "#domain: 0.050 0.050 0.200\n",
    "#dx_dy_dz: 0.001 0.001 0.001\n",
    "#time_window: 10e-9\n",
    "\n",
    "#waveform: gaussian 1 1e9 mypulse\n",
    "\n",
    "#rx\n",
    "\n",
    "#transmission_line: z 0.025 0.025 0.100 73 mypulse\n",
    "#edge: 0.025 0.025 0.025 0.025 0.025 0.175 pec\n",
    "#edge: 0.025 0.025 0.100 0.025 0.025 0.101 free_space\n",
    "\n",
    "#geometry_view: 0.020 0.020 0.020 0.030 0.030 0.180 0.001 0.001 0.001 antenna_wire_dipole_fs f\n",
    "\n",
    "\n",
    "\n",
    "\n"
   ]
  },
  {
   "cell_type": "code",
   "execution_count": 2,
   "id": "c3cd3e20",
   "metadata": {},
   "outputs": [
    {
     "name": "stdout",
     "output_type": "stream",
     "text": [
      "\n",
      "=== Electromagnetic modelling software based on the Finite-Difference Time-Domain (FDTD) method \n",
      "\n",
      "    www.gprmax.com   __  __\n",
      "     __ _ _ __  _ __|  \\/  | __ ___  __\n",
      "    / _` | '_ \\| '__| |\\/| |/ _` \\ \\/ /\n",
      "   | (_| | |_) | |  | |  | | (_| |>  <\n",
      "    \\__, | .__/|_|  |_|  |_|\\__,_/_/\\_\\\n",
      "    |___/|_|\n",
      "                     v4.0.0b0 (Càrn Mòr)\n",
      "\n",
      " Copyright (C) 2015-2023: The University of Edinburgh, United Kingdom\n",
      " Authors: Craig Warren, Antonis Giannopoulos, and John Hartley\n",
      "\n",
      " gprMax is free software: you can redistribute it and/or modify it under the\n",
      "  terms of the GNU General Public License as published by the Free Software\n",
      "  Foundation, either version 3 of the License, or (at your option) any later\n",
      "  version.\n",
      " gprMax is distributed in the hope that it will be useful, but WITHOUT ANY\n",
      "  WARRANTY; without even the implied warranty of MERCHANTABILITY or FITNESS FOR\n",
      "  A PARTICULAR PURPOSE.  See the GNU General Public License for more details.\n",
      " You should have received a copy of the GNU General Public License along with\n",
      "  gprMax.  If not, see www.gnu.org/licenses.\n",
      "\n",
      "fedora | ASUSTeK COMPUTER INC. VivoBook_ASUSLaptop X512FLC_X512FL | 1 x Intel(R) Core(TM) i5-10210U CPU @ 1.60GHz (4 cores, 8 cores with Hyper-Threading) | 7.6 GiB | Linux-6.4.11-200.fc38.x86_64-x86_64-with-glibc2.37\n",
      "|--->OpenMP: 4 threads\n",
      "\n",
      "--- Model 1/1, input file: antenna_wire_dipole_fs.in --------------------------\n",
      "\n",
      "Constants/variables used/available for Python scripting: {c: 299792458.0, current_model_run: 1, e0: 8.8541878128e-12, inputfile: /home/srutanik/GSoC/antenna_wire_dipole_fs.in, m0: 1.25663706212e-06, number_model_runs: 1, z0: 376.73031366686166}\n",
      "\n",
      "Model title: antenna_wire_dipole_fs\n",
      "Spatial discretisation: 0.001 x 0.001 x 0.001m\n",
      "Domain size: 0.05 x 0.05 x 0.2m (50 x 50 x 200 = 500000 cells)\n",
      "Mode: 3D\n",
      "Time step (at CFL limit): 1.92583e-12 secs\n",
      "Time window: 1e-08 secs (5194 iterations)\n",
      "Waveform mypulse of type gaussian with maximum amplitude scaling 1, frequency 1e+09Hz created.\n",
      "Transmission line with polarity z at 0.025m, 0.025m, 0.1m, resistance 73.0 Ohms, using waveform mypulse created.\n",
      "Geometry view from 0.02m, 0.02m, 0.02m, to 0.03m, 0.03m, 0.18m, discretisation 0.001m, 0.001m, 0.001m, with filename base antenna_wire_dipole_fs created.\n",
      "Edge from 0.025m, 0.025m, 0.025m, to 0.025m, 0.025m, 0.175m of material pec created.\n",
      "Edge from 0.025m, 0.025m, 0.1m, to 0.025m, 0.025m, 0.101m of material free_space created.\n",
      "\n",
      "Memory required (estimated): ~63.4 MB [main_grid] + ~65.0 MB overhead = 128.4 MB\n",
      "\n",
      "PML boundaries [main_grid]: {formulation: HORIPML, order: 1, thickness (cells): 10}\n",
      "Building PML boundaries [main_grid]: 100%|█████| 6/6 [00:00<00:00, 1252.78it/s]\n",
      "\n",
      "Building Yee cells [main_grid]: 100%|████████████| 2/2 [00:00<00:00, 58.77it/s]\n",
      "\n",
      "Materials [main_grid]:\n",
      "    \u001b(0x\u001b(B            \u001b(0x\u001b(B         \u001b(0x\u001b(B       \u001b(0x\u001b(B sigma \u001b(0x\u001b(B      \u001b(0x\u001b(B sigma*  \u001b(0x\u001b(B Dielectric \n",
      " ID \u001b(0x\u001b(B Name       \u001b(0x\u001b(B Type    \u001b(0x\u001b(B eps_r \u001b(0x\u001b(B [S/m] \u001b(0x\u001b(B mu_r \u001b(0x\u001b(B [Ohm/m] \u001b(0x\u001b(B smoothable \n",
      "\u001b(0qqqqnqqqqqqqqqqqqnqqqqqqqqqnqqqqqqqnqqqqqqqnqqqqqqnqqqqqqqqqnqqqqqqqqqqqq\u001b(B\n",
      "  0 \u001b(0x\u001b(B pec        \u001b(0x\u001b(B builtin \u001b(0x\u001b(B 1     \u001b(0x\u001b(B inf   \u001b(0x\u001b(B 1    \u001b(0x\u001b(B 0       \u001b(0x\u001b(B False      \n",
      "  1 \u001b(0x\u001b(B free_space \u001b(0x\u001b(B builtin \u001b(0x\u001b(B 1     \u001b(0x\u001b(B 0     \u001b(0x\u001b(B 1    \u001b(0x\u001b(B 0       \u001b(0x\u001b(B True       \n",
      "\n",
      "Numerical dispersion analysis [main_grid]: estimated largest physical phase-velocity error is -0.01% in material 'free_space' whose wavelength sampled by 96 cells. Maximum significant frequency estimated as 3.09914e+09Hz\n",
      "\n",
      "Output directory: /home/srutanik/GSoC\n",
      "\n",
      "Writing geometry view file 1/1, antenna_wire_dipole_fs.vtu: 100%|█| 3.83M/3.83M\n",
      "\n",
      "\n",
      "Model 1/1 on fedora with OpenMP backend using 4 thread(s)\n",
      "|--->: 100%|███████████████████████████████| 5194/5194 [01:33<00:00, 55.32it/s]\n",
      "\n",
      "Memory used (estimated): ~161.8 MB\n",
      "Time taken: 1 minute and 26.1483 seconds\n",
      "\n",
      "=== Simulation completed in 1 minute and 26.5637 seconds ======================\n",
      "\n"
     ]
    }
   ],
   "source": [
    "import gprMax\n",
    "gprMax.run(inputfile = \"antenna_wire_dipole_fs.in\")"
   ]
  },
  {
   "cell_type": "code",
   "execution_count": null,
   "id": "56ff033f",
   "metadata": {},
   "outputs": [],
   "source": []
  },
  {
   "cell_type": "code",
   "execution_count": null,
   "id": "b0aa6235",
   "metadata": {},
   "outputs": [],
   "source": []
  }
 ],
 "metadata": {
  "kernelspec": {
   "display_name": "gprMax-devel",
   "language": "python",
   "name": "gprmax-devel"
  },
  "language_info": {
   "codemirror_mode": {
    "name": "ipython",
    "version": 3
   },
   "file_extension": ".py",
   "mimetype": "text/x-python",
   "name": "python",
   "nbconvert_exporter": "python",
   "pygments_lexer": "ipython3",
   "version": "3.11.4"
  }
 },
 "nbformat": 4,
 "nbformat_minor": 5
}
