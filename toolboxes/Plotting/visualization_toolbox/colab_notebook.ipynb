{
  "nbformat": 4,
  "nbformat_minor": 0,
  "metadata": {
    "colab": {
      "provenance": []
    },
    "kernelspec": {
      "name": "python3",
      "display_name": "Python 3"
    },
    "language_info": {
      "name": "python"
    }
  },
  "cells": [
    {
      "cell_type": "markdown",
      "source": [
        "## **Miniconda installation on Google Colab**"
      ],
      "metadata": {
        "id": "aESXHqjqK1vh"
      }
    },
    {
      "cell_type": "code",
      "execution_count": 1,
      "metadata": {
        "colab": {
          "base_uri": "https://localhost:8080/"
        },
        "id": "InLF8PuGDb45",
        "outputId": "c5f66c12-b14c-41e1-9599-96450bb11f6f"
      },
      "outputs": [
        {
          "output_type": "stream",
          "name": "stdout",
          "text": [
            "⏬ Downloading https://github.com/conda-forge/miniforge/releases/download/23.1.0-1/Mambaforge-23.1.0-1-Linux-x86_64.sh...\n",
            "📦 Installing...\n",
            "📌 Adjusting configuration...\n",
            "🩹 Patching environment...\n",
            "⏲ Done in 0:00:10\n",
            "🔁 Restarting kernel...\n"
          ]
        }
      ],
      "source": [
        "!pip install -q condacolab\n",
        "import condacolab\n",
        "condacolab.install()"
      ]
    },
    {
      "cell_type": "markdown",
      "source": [
        "## **Installing PyVista and libgl1 for rendering and displaying 3D output**"
      ],
      "metadata": {
        "id": "j-N_9vYfK-XG"
      }
    },
    {
      "cell_type": "code",
      "source": [
        "!apt-get install -qq xvfb libgl1-mesa-glx\n",
        "!pip install pyvista -qq"
      ],
      "metadata": {
        "colab": {
          "base_uri": "https://localhost:8080/"
        },
        "id": "DPwi-vzqEsgK",
        "outputId": "e637b7fa-f177-4fc7-ea93-cd597e46f972"
      },
      "execution_count": 2,
      "outputs": [
        {
          "output_type": "stream",
          "name": "stdout",
          "text": [
            "Selecting previously unselected package libfontenc1:amd64.\n",
            "(Reading database ... 120831 files and directories currently installed.)\n",
            "Preparing to unpack .../0-libfontenc1_1%3a1.1.4-1build3_amd64.deb ...\n",
            "Unpacking libfontenc1:amd64 (1:1.1.4-1build3) ...\n",
            "Selecting previously unselected package libgl1-mesa-glx:amd64.\n",
            "Preparing to unpack .../1-libgl1-mesa-glx_23.0.4-0ubuntu1~22.04.1_amd64.deb ...\n",
            "Unpacking libgl1-mesa-glx:amd64 (23.0.4-0ubuntu1~22.04.1) ...\n",
            "Selecting previously unselected package libxfont2:amd64.\n",
            "Preparing to unpack .../2-libxfont2_1%3a2.0.5-1build1_amd64.deb ...\n",
            "Unpacking libxfont2:amd64 (1:2.0.5-1build1) ...\n",
            "Selecting previously unselected package libxkbfile1:amd64.\n",
            "Preparing to unpack .../3-libxkbfile1_1%3a1.1.0-1build3_amd64.deb ...\n",
            "Unpacking libxkbfile1:amd64 (1:1.1.0-1build3) ...\n",
            "Selecting previously unselected package x11-xkb-utils.\n",
            "Preparing to unpack .../4-x11-xkb-utils_7.7+5build4_amd64.deb ...\n",
            "Unpacking x11-xkb-utils (7.7+5build4) ...\n",
            "Selecting previously unselected package xfonts-encodings.\n",
            "Preparing to unpack .../5-xfonts-encodings_1%3a1.0.5-0ubuntu2_all.deb ...\n",
            "Unpacking xfonts-encodings (1:1.0.5-0ubuntu2) ...\n",
            "Selecting previously unselected package xfonts-utils.\n",
            "Preparing to unpack .../6-xfonts-utils_1%3a7.7+6build2_amd64.deb ...\n",
            "Unpacking xfonts-utils (1:7.7+6build2) ...\n",
            "Selecting previously unselected package xfonts-base.\n",
            "Preparing to unpack .../7-xfonts-base_1%3a1.0.5_all.deb ...\n",
            "Unpacking xfonts-base (1:1.0.5) ...\n",
            "Selecting previously unselected package xserver-common.\n",
            "Preparing to unpack .../8-xserver-common_2%3a21.1.4-2ubuntu1.7~22.04.1_all.deb ...\n",
            "Unpacking xserver-common (2:21.1.4-2ubuntu1.7~22.04.1) ...\n",
            "Selecting previously unselected package xvfb.\n",
            "Preparing to unpack .../9-xvfb_2%3a21.1.4-2ubuntu1.7~22.04.1_amd64.deb ...\n",
            "Unpacking xvfb (2:21.1.4-2ubuntu1.7~22.04.1) ...\n",
            "Setting up libfontenc1:amd64 (1:1.1.4-1build3) ...\n",
            "Setting up xfonts-encodings (1:1.0.5-0ubuntu2) ...\n",
            "Setting up libgl1-mesa-glx:amd64 (23.0.4-0ubuntu1~22.04.1) ...\n",
            "Setting up libxkbfile1:amd64 (1:1.1.0-1build3) ...\n",
            "Setting up libxfont2:amd64 (1:2.0.5-1build1) ...\n",
            "Setting up x11-xkb-utils (7.7+5build4) ...\n",
            "Setting up xfonts-utils (1:7.7+6build2) ...\n",
            "Setting up xfonts-base (1:1.0.5) ...\n",
            "Setting up xserver-common (2:21.1.4-2ubuntu1.7~22.04.1) ...\n",
            "Setting up xvfb (2:21.1.4-2ubuntu1.7~22.04.1) ...\n",
            "Processing triggers for man-db (2.10.2-1) ...\n",
            "Processing triggers for fontconfig (2.13.1-4.2ubuntu5) ...\n",
            "Processing triggers for libc-bin (2.35-0ubuntu3.1) ...\n",
            "/sbin/ldconfig.real: /usr/local/lib/libtbbmalloc_proxy.so.2 is not a symbolic link\n",
            "\n",
            "/sbin/ldconfig.real: /usr/local/lib/libtbbbind.so.3 is not a symbolic link\n",
            "\n",
            "/sbin/ldconfig.real: /usr/local/lib/libtbbmalloc.so.2 is not a symbolic link\n",
            "\n",
            "/sbin/ldconfig.real: /usr/local/lib/libtbb.so.12 is not a symbolic link\n",
            "\n",
            "/sbin/ldconfig.real: /usr/local/lib/libtbbbind_2_5.so.3 is not a symbolic link\n",
            "\n",
            "/sbin/ldconfig.real: /usr/local/lib/libtbbbind_2_0.so.3 is not a symbolic link\n",
            "\n",
            "\u001b[2K     \u001b[90m━━━━━━━━━━━━━━━━━━━━━━━━━━━━━━━━━━━━━━━━\u001b[0m \u001b[32m1.6/1.6 MB\u001b[0m \u001b[31m36.8 MB/s\u001b[0m eta \u001b[36m0:00:00\u001b[0m\n",
            "\u001b[2K     \u001b[90m━━━━━━━━━━━━━━━━━━━━━━━━━━━━━━━━━━━━━━━━\u001b[0m \u001b[32m18.2/18.2 MB\u001b[0m \u001b[31m66.2 MB/s\u001b[0m eta \u001b[36m0:00:00\u001b[0m\n",
            "\u001b[2K     \u001b[90m━━━━━━━━━━━━━━━━━━━━━━━━━━━━━━━━━━━━━━━━\u001b[0m \u001b[32m79.3/79.3 MB\u001b[0m \u001b[31m11.2 MB/s\u001b[0m eta \u001b[36m0:00:00\u001b[0m\n",
            "\u001b[2K     \u001b[90m━━━━━━━━━━━━━━━━━━━━━━━━━━━━━━━━━━━━━━━━\u001b[0m \u001b[32m60.9/60.9 kB\u001b[0m \u001b[31m8.7 MB/s\u001b[0m eta \u001b[36m0:00:00\u001b[0m\n",
            "\u001b[2K     \u001b[90m━━━━━━━━━━━━━━━━━━━━━━━━━━━━━━━━━━━━━━━━\u001b[0m \u001b[32m3.4/3.4 MB\u001b[0m \u001b[31m107.2 MB/s\u001b[0m eta \u001b[36m0:00:00\u001b[0m\n",
            "\u001b[2K     \u001b[90m━━━━━━━━━━━━━━━━━━━━━━━━━━━━━━━━━━━━━━━\u001b[0m \u001b[32m11.6/11.6 MB\u001b[0m \u001b[31m120.3 MB/s\u001b[0m eta \u001b[36m0:00:00\u001b[0m\n",
            "\u001b[2K     \u001b[90m━━━━━━━━━━━━━━━━━━━━━━━━━━━━━━━━━━━━━━━━\u001b[0m \u001b[32m1.6/1.6 MB\u001b[0m \u001b[31m87.1 MB/s\u001b[0m eta \u001b[36m0:00:00\u001b[0m\n",
            "\u001b[2K     \u001b[90m━━━━━━━━━━━━━━━━━━━━━━━━━━━━━━━━━━━━━━━━\u001b[0m \u001b[32m98.3/98.3 kB\u001b[0m \u001b[31m12.3 MB/s\u001b[0m eta \u001b[36m0:00:00\u001b[0m\n",
            "\u001b[2K     \u001b[90m━━━━━━━━━━━━━━━━━━━━━━━━━━━━━━━━━━━━━━━━\u001b[0m \u001b[32m48.9/48.9 kB\u001b[0m \u001b[31m6.5 MB/s\u001b[0m eta \u001b[36m0:00:00\u001b[0m\n",
            "\u001b[2K     \u001b[90m━━━━━━━━━━━━━━━━━━━━━━━━━━━━━━━━━━━━━━━━\u001b[0m \u001b[32m4.5/4.5 MB\u001b[0m \u001b[31m105.7 MB/s\u001b[0m eta \u001b[36m0:00:00\u001b[0m\n",
            "\u001b[2K     \u001b[90m━━━━━━━━━━━━━━━━━━━━━━━━━━━━━━━━━━━━━━\u001b[0m \u001b[32m300.7/300.7 kB\u001b[0m \u001b[31m30.8 MB/s\u001b[0m eta \u001b[36m0:00:00\u001b[0m\n",
            "\u001b[2K     \u001b[90m━━━━━━━━━━━━━━━━━━━━━━━━━━━━━━━━━━━━━━\u001b[0m \u001b[32m247.7/247.7 kB\u001b[0m \u001b[31m28.8 MB/s\u001b[0m eta \u001b[36m0:00:00\u001b[0m\n",
            "\u001b[?25h\u001b[33mWARNING: Running pip as the 'root' user can result in broken permissions and conflicting behaviour with the system package manager. It is recommended to use a virtual environment instead: https://pip.pypa.io/warnings/venv\u001b[0m\u001b[33m\n",
            "\u001b[0m"
          ]
        }
      ]
    },
    {
      "cell_type": "markdown",
      "source": [
        "## **Cloning gprMax devel branch into Colab**"
      ],
      "metadata": {
        "id": "tmgbdc4FL25o"
      }
    },
    {
      "cell_type": "code",
      "source": [
        "!git clone --branch devel https://github.com/gprMax/gprMax.git"
      ],
      "metadata": {
        "colab": {
          "base_uri": "https://localhost:8080/"
        },
        "id": "WaaAwWajDdRN",
        "outputId": "db2ff969-f4fb-47b9-fe98-03925db8a6f8"
      },
      "execution_count": 1,
      "outputs": [
        {
          "output_type": "stream",
          "name": "stdout",
          "text": [
            "Cloning into 'gprMax'...\n",
            "remote: Enumerating objects: 15743, done.\u001b[K\n",
            "remote: Counting objects: 100% (2954/2954), done.\u001b[K\n",
            "remote: Compressing objects: 100% (433/433), done.\u001b[K\n",
            "remote: Total 15743 (delta 2583), reused 2791 (delta 2512), pack-reused 12789\u001b[K\n",
            "Receiving objects: 100% (15743/15743), 197.83 MiB | 26.38 MiB/s, done.\n",
            "Resolving deltas: 100% (11009/11009), done.\n",
            "Updating files: 100% (363/363), done.\n"
          ]
        }
      ]
    },
    {
      "cell_type": "markdown",
      "source": [
        "## **Cloning 3D visualization script into Colab**"
      ],
      "metadata": {
        "id": "Q5erPbC6L8VY"
      }
    },
    {
      "cell_type": "code",
      "source": [
        "!wget https://raw.githubusercontent.com/srutanik/GSoC_23/main/visualization_toolbox/plot_3D_model.py"
      ],
      "metadata": {
        "colab": {
          "base_uri": "https://localhost:8080/"
        },
        "id": "zmqx7t1rGhBL",
        "outputId": "5f8b1a07-4c8f-4ef1-d667-18fa2590c42d"
      },
      "execution_count": 4,
      "outputs": [
        {
          "output_type": "stream",
          "name": "stdout",
          "text": [
            "--2023-08-30 11:10:36--  https://raw.githubusercontent.com/srutanik/GSoC_23/main/visualization_toolbox/plot_3D_model.py\n",
            "Resolving raw.githubusercontent.com (raw.githubusercontent.com)... 185.199.108.133, 185.199.109.133, 185.199.110.133, ...\n",
            "Connecting to raw.githubusercontent.com (raw.githubusercontent.com)|185.199.108.133|:443... connected.\n",
            "HTTP request sent, awaiting response... 200 OK\n",
            "Length: 5116 (5.0K) [text/plain]\n",
            "Saving to: ‘plot_3D_model.py’\n",
            "\n",
            "\rplot_3D_model.py      0%[                    ]       0  --.-KB/s               \rplot_3D_model.py    100%[===================>]   5.00K  --.-KB/s    in 0s      \n",
            "\n",
            "2023-08-30 11:10:36 (72.3 MB/s) - ‘plot_3D_model.py’ saved [5116/5116]\n",
            "\n"
          ]
        }
      ]
    },
    {
      "cell_type": "markdown",
      "source": [
        "## **Creating the gprMax-devel conda environment**\n",
        "\n",
        "The `&> /dev/null` at the end is used to mute the output of the cell since we don't require to view any output here. If needed, one can view the whole process by deleting this part."
      ],
      "metadata": {
        "id": "AtEOZY9wMFAs"
      }
    },
    {
      "cell_type": "code",
      "source": [
        "!cd gprMax && conda env create -f conda_env.yml &> /dev/null"
      ],
      "metadata": {
        "id": "HA5njxm3Eds1"
      },
      "execution_count": 4,
      "outputs": []
    },
    {
      "cell_type": "markdown",
      "source": [
        "## **Activating the gprMax-devel environment and installing gprMax**"
      ],
      "metadata": {
        "id": "qAyv1AEwMNHG"
      }
    },
    {
      "cell_type": "code",
      "source": [
        "!source activate gprMax-devel && pip install -e gprMax"
      ],
      "metadata": {
        "colab": {
          "base_uri": "https://localhost:8080/"
        },
        "id": "Fl6iSzwlE4lm",
        "outputId": "9c7be235-c18a-4526-979e-8c7409a76f31"
      },
      "execution_count": 5,
      "outputs": [
        {
          "output_type": "stream",
          "name": "stdout",
          "text": [
            "Obtaining file:///content/gprMax\n",
            "  Preparing metadata (setup.py) ... \u001b[?25l\u001b[?25hdone\n",
            "Requirement already satisfied: colorama in /usr/local/envs/gprMax-devel/lib/python3.11/site-packages (from gprMax==4.0.0b0) (0.4.6)\n",
            "Requirement already satisfied: cython in /usr/local/envs/gprMax-devel/lib/python3.11/site-packages (from gprMax==4.0.0b0) (3.0.2)\n",
            "Requirement already satisfied: h5py in /usr/local/envs/gprMax-devel/lib/python3.11/site-packages (from gprMax==4.0.0b0) (3.9.0)\n",
            "Requirement already satisfied: jinja2 in /usr/local/envs/gprMax-devel/lib/python3.11/site-packages (from gprMax==4.0.0b0) (3.1.2)\n",
            "Requirement already satisfied: matplotlib in /usr/local/envs/gprMax-devel/lib/python3.11/site-packages (from gprMax==4.0.0b0) (3.7.2)\n",
            "Requirement already satisfied: numpy in /usr/local/envs/gprMax-devel/lib/python3.11/site-packages (from gprMax==4.0.0b0) (1.25.2)\n",
            "Requirement already satisfied: psutil in /usr/local/envs/gprMax-devel/lib/python3.11/site-packages (from gprMax==4.0.0b0) (5.9.5)\n",
            "Requirement already satisfied: scipy in /usr/local/envs/gprMax-devel/lib/python3.11/site-packages (from gprMax==4.0.0b0) (1.11.2)\n",
            "Requirement already satisfied: terminaltables in /usr/local/envs/gprMax-devel/lib/python3.11/site-packages (from gprMax==4.0.0b0) (3.1.10)\n",
            "Requirement already satisfied: tqdm in /usr/local/envs/gprMax-devel/lib/python3.11/site-packages (from gprMax==4.0.0b0) (4.66.1)\n",
            "Requirement already satisfied: MarkupSafe>=2.0 in /usr/local/envs/gprMax-devel/lib/python3.11/site-packages (from jinja2->gprMax==4.0.0b0) (2.1.3)\n",
            "Requirement already satisfied: contourpy>=1.0.1 in /usr/local/envs/gprMax-devel/lib/python3.11/site-packages (from matplotlib->gprMax==4.0.0b0) (1.1.0)\n",
            "Requirement already satisfied: cycler>=0.10 in /usr/local/envs/gprMax-devel/lib/python3.11/site-packages (from matplotlib->gprMax==4.0.0b0) (0.11.0)\n",
            "Requirement already satisfied: fonttools>=4.22.0 in /usr/local/envs/gprMax-devel/lib/python3.11/site-packages (from matplotlib->gprMax==4.0.0b0) (4.42.1)\n",
            "Requirement already satisfied: kiwisolver>=1.0.1 in /usr/local/envs/gprMax-devel/lib/python3.11/site-packages (from matplotlib->gprMax==4.0.0b0) (1.4.5)\n",
            "Requirement already satisfied: packaging>=20.0 in /usr/local/envs/gprMax-devel/lib/python3.11/site-packages (from matplotlib->gprMax==4.0.0b0) (23.1)\n",
            "Requirement already satisfied: pillow>=6.2.0 in /usr/local/envs/gprMax-devel/lib/python3.11/site-packages (from matplotlib->gprMax==4.0.0b0) (10.0.0)\n",
            "Requirement already satisfied: pyparsing<3.1,>=2.3.1 in /usr/local/envs/gprMax-devel/lib/python3.11/site-packages (from matplotlib->gprMax==4.0.0b0) (3.0.9)\n",
            "Requirement already satisfied: python-dateutil>=2.7 in /usr/local/envs/gprMax-devel/lib/python3.11/site-packages (from matplotlib->gprMax==4.0.0b0) (2.8.2)\n",
            "Requirement already satisfied: six>=1.5 in /usr/local/envs/gprMax-devel/lib/python3.11/site-packages (from python-dateutil>=2.7->matplotlib->gprMax==4.0.0b0) (1.16.0)\n",
            "Installing collected packages: gprMax\n",
            "  Running setup.py develop for gprMax\n",
            "Successfully installed gprMax-4.0.0b0\n",
            "\u001b[33mWARNING: Running pip as the 'root' user can result in broken permissions and conflicting behaviour with the system package manager. It is recommended to use a virtual environment instead: https://pip.pypa.io/warnings/venv\u001b[0m\u001b[33m\n",
            "\u001b[0m"
          ]
        }
      ]
    },
    {
      "cell_type": "markdown",
      "source": [
        "## **Creating input file of the A Scan model**"
      ],
      "metadata": {
        "id": "JZysLF3_MY_C"
      }
    },
    {
      "cell_type": "code",
      "source": [
        "%%writefile cylinder_Ascan_2D.in\n",
        "#title: A-scan from a metal cylinder buried in a dielectric half-space\n",
        "#domain: 0.240 0.210 0.002\n",
        "#dx_dy_dz: 0.002 0.002 0.002\n",
        "#time_window: 3e-9\n",
        "\n",
        "#material: 6 0 1 0 half_space\n",
        "\n",
        "#waveform: ricker 1 1.5e9 my_ricker\n",
        "#hertzian_dipole: z 0.100 0.170 0 my_ricker\n",
        "#rx: 0.140 0.170 0\n",
        "\n",
        "#box: 0 0 0 0.240 0.170 0.002 half_space\n",
        "#cylinder: 0.120 0.080 0 0.120 0.080 0.002 0.010 pec\n",
        "\n",
        "#geometry_view: 0 0 0 0.240 0.210 0.002 0.002 0.002 0.002 cylinder_half_space n"
      ],
      "metadata": {
        "colab": {
          "base_uri": "https://localhost:8080/"
        },
        "id": "QqhHk0iFI_it",
        "outputId": "c4c8206f-11be-4619-d32c-f3ea032ddaa9"
      },
      "execution_count": 6,
      "outputs": [
        {
          "output_type": "stream",
          "name": "stdout",
          "text": [
            "Writing cylinder_Ascan_2D.in\n"
          ]
        }
      ]
    },
    {
      "cell_type": "markdown",
      "source": [
        "## **Activate the conda environment and run the model**"
      ],
      "metadata": {
        "id": "Aqy0w0wrMhOf"
      }
    },
    {
      "cell_type": "code",
      "source": [
        "!source activate gprMax-devel && python -m gprMax cylinder_Ascan_2D.in"
      ],
      "metadata": {
        "colab": {
          "base_uri": "https://localhost:8080/"
        },
        "id": "CKe2jznDKB-R",
        "outputId": "fc95de31-65df-4a06-b91b-fb90bdbd75c7"
      },
      "execution_count": 7,
      "outputs": [
        {
          "output_type": "stream",
          "name": "stdout",
          "text": [
            "\u001b[37m\n",
            "=== Electromagnetic modelling software based on the Finite-Difference Time-Domain (FDTD) method \n",
            "\n",
            "\u001b[36m    www.gprmax.com   __  __\n",
            "     __ _ _ __  _ __|  \\/  | __ ___  __\n",
            "    / _` | '_ \\| '__| |\\/| |/ _` \\ \\/ /\n",
            "   | (_| | |_) | |  | |  | | (_| |>  <\n",
            "    \\__, | .__/|_|  |_|  |_|\\__,_/_/\\_\\\n",
            "    |___/|_|\n",
            "                     v4.0.0b0 (Càrn Mòr)\n",
            "\n",
            "\u001b[0m Copyright (C) 2015-2023: The University of Edinburgh, United Kingdom\n",
            " Authors: Craig Warren, Antonis Giannopoulos, and John Hartley\n",
            "\n",
            " gprMax is free software: you can redistribute it and/or modify it under the\n",
            "  terms of the GNU General Public License as published by the Free Software\n",
            "  Foundation, either version 3 of the License, or (at your option) any later\n",
            "  version.\n",
            " gprMax is distributed in the hope that it will be useful, but WITHOUT ANY\n",
            "  WARRANTY; without even the implied warranty of MERCHANTABILITY or FITNESS FOR\n",
            "  A PARTICULAR PURPOSE.  See the GNU General Public License for more details.\n",
            " You should have received a copy of the GNU General Public License along with\n",
            "  gprMax.  If not, see www.gnu.org/licenses.\u001b[0m\n",
            "\u001b[37m\n",
            "72acd603f4a5 | Google Google Compute Engine | 1 x AMD EPYC 7B12 (1 cores, 2 cores with Hyper-Threading) | 12.7 GiB | Linux-5.15.109+-x86_64-with-glibc2.35\u001b[0m\n",
            "\u001b[37m|--->OpenMP: 1 threads\u001b[0m\n",
            "\u001b[37m\u001b[32m\n",
            "--- Model 1/1, input file: cylinder_Ascan_2D.in -------------------------------\n",
            "\u001b[0m\u001b[0m\n",
            "\u001b[37mConstants/variables used/available for Python scripting: {c: 299792458.0, current_model_run: 1, e0: 8.8541878128e-12, inputfile: /content/cylinder_Ascan_2D.in, m0: 1.25663706212e-06, number_model_runs: 1, z0: 376.73031366686166}\n",
            "\u001b[0m\n",
            "\u001b[37mModel title: A-scan from a metal cylinder buried in a dielectric half-space\u001b[0m\n",
            "\u001b[37mSpatial discretisation: 0.002 x 0.002 x 0.002m\u001b[0m\n",
            "\u001b[37mDomain size: 0.24 x 0.21 x 0.002m (120 x 105 x 1 = 12600 cells)\u001b[0m\n",
            "\u001b[37mMode: 2D TMz\u001b[0m\n",
            "\u001b[37mTime step (at CFL limit): 4.71731e-12 secs\u001b[0m\n",
            "\u001b[37mTime window: 3e-09 secs (637 iterations)\u001b[0m\n",
            "\u001b[37mWaveform my_ricker of type ricker with maximum amplitude scaling 1, frequency 1.5e+09Hz created.\u001b[0m\n",
            "\u001b[37mHertzian dipole with polarity z at 0.1m, 0.17m, 0m, using waveform my_ricker created.\u001b[0m\n",
            "\u001b[37mReceiver at 0.14m, 0.17m, 0m with output component(s) Ex, Ey, Ez, Hx, Hy, Hz created.\u001b[0m\n",
            "\u001b[37mMaterial half_space with eps_r=6, sigma=0 S/m; mu_r=1, sigma*=0 Ohm/m created.\u001b[0m\n",
            "\u001b[37mGeometry view from 0m, 0m, 0m, to 0.24m, 0.21m, 0.002m, discretisation 0.002m, 0.002m, 0.002m, with filename base cylinder_half_space created.\u001b[0m\n",
            "\u001b[37mBox from 0m, 0m, 0m, to 0.24m, 0.17m, 0.002m of material(s) half_space created, dielectric smoothing is on.\u001b[0m\n",
            "\u001b[37mCylinder with face centres 0.12m, 0.08m, 0m and 0.12m, 0.08m, 0.002m, with radius 0.01m, of material(s) pec created, dielectric smoothing is off.\u001b[0m\n",
            "\u001b[37m\n",
            "Memory required (estimated): ~1.5 MB [main_grid] + ~65.0 MB overhead = 66.5 MB\u001b[0m\n",
            "\u001b[37m\n",
            "PML boundaries [main_grid]: {formulation: HORIPML, order: 1, thickness (cells): x0: 10, y0: 10, z0: 0, xmax: 10, ymax: 10, zmax: 0}\u001b[0m\n",
            "\rBuilding PML boundaries [main_grid]:   0%|               | 0/4 [00:00<?, ?it/s]\rBuilding PML boundaries [main_grid]: 100%|█████| 4/4 [00:00<00:00, 3044.87it/s]\n",
            "\u001b[37m\u001b[0m\n",
            "\rBuilding Yee cells [main_grid]:   0%|                    | 0/2 [00:00<?, ?it/s]\rBuilding Yee cells [main_grid]: 100%|███████████| 2/2 [00:00<00:00, 668.47it/s]\n",
            "\u001b[37m\n",
            "Materials [main_grid]:\u001b[0m\n",
            "\u001b[37m    \u001b(0x\u001b(B                                             \u001b(0x\u001b(B                     \u001b(0x\u001b(B       \u001b(0x\u001b(B sigma \u001b(0x\u001b(B      \u001b(0x\u001b(B sigma*  \u001b(0x\u001b(B Dielectric \n",
            " ID \u001b(0x\u001b(B Name                                        \u001b(0x\u001b(B Type                \u001b(0x\u001b(B eps_r \u001b(0x\u001b(B [S/m] \u001b(0x\u001b(B mu_r \u001b(0x\u001b(B [Ohm/m] \u001b(0x\u001b(B smoothable \n",
            "\u001b(0qqqqnqqqqqqqqqqqqqqqqqqqqqqqqqqqqqqqqqqqqqqqqqqqqqnqqqqqqqqqqqqqqqqqqqqqnqqqqqqqnqqqqqqqnqqqqqqnqqqqqqqqqnqqqqqqqqqqqq\u001b(B\n",
            "  0 \u001b(0x\u001b(B pec                                         \u001b(0x\u001b(B builtin             \u001b(0x\u001b(B 1     \u001b(0x\u001b(B inf   \u001b(0x\u001b(B 1    \u001b(0x\u001b(B 0       \u001b(0x\u001b(B False      \n",
            "  1 \u001b(0x\u001b(B free_space                                  \u001b(0x\u001b(B builtin             \u001b(0x\u001b(B 1     \u001b(0x\u001b(B 0     \u001b(0x\u001b(B 1    \u001b(0x\u001b(B 0       \u001b(0x\u001b(B True       \n",
            "  2 \u001b(0x\u001b(B half_space                                  \u001b(0x\u001b(B                     \u001b(0x\u001b(B 6     \u001b(0x\u001b(B 0     \u001b(0x\u001b(B 1    \u001b(0x\u001b(B 0       \u001b(0x\u001b(B True       \n",
            "  3 \u001b(0x\u001b(B free_space+free_space+half_space+half_space \u001b(0x\u001b(B dielectric-smoothed \u001b(0x\u001b(B 3.5   \u001b(0x\u001b(B 0     \u001b(0x\u001b(B 1    \u001b(0x\u001b(B 0       \u001b(0x\u001b(B True       \u001b[0m\n",
            "\u001b[37m\n",
            "Numerical dispersion analysis [main_grid]: estimated largest physical phase-velocity error is -0.42% in material 'half_space' whose wavelength sampled by 14 cells. Maximum significant frequency estimated as 4.32623e+09Hz\u001b[0m\n",
            "\u001b[37m\n",
            "Output directory: /content\u001b[0m\n",
            "\u001b[37m\u001b[0m\n",
            "\rWriting geometry view file 1/1, cylinder_half_space.vti:   0%| | 0.00/50.4k [00\rWriting geometry view file 1/1, cylinder_half_space.vti: 100%|█| 50.4k/50.4k [0\n",
            "\u001b[37m\u001b[0m\n",
            "\u001b[37m\n",
            "Model 1/1 on 72acd603f4a5 with OpenMP backend using 1 thread(s)\u001b[0m\n",
            "|--->: 100%|███████████████████████████████| 637/637 [00:00<00:00, 2101.55it/s]\n",
            "\u001b[37mWritten output file: cylinder_Ascan_2D.h5\u001b[0m\n",
            "\u001b[37m\n",
            "Memory used (estimated): ~89.1 MB\u001b[0m\n",
            "\u001b[37mTime taken: 0.2892 seconds\u001b[0m\n",
            "\u001b[37m\n",
            "=== Simulation completed in 0.3365 seconds ====================================\n",
            "\u001b[0m\n",
            "\u001b[0m"
          ]
        }
      ]
    },
    {
      "cell_type": "markdown",
      "source": [
        "## **Import necessary dependencies for 3D output**"
      ],
      "metadata": {
        "id": "z9EavhwKMoHp"
      }
    },
    {
      "cell_type": "code",
      "source": [
        "import pyvista as pv\n",
        "pv.start_xvfb()"
      ],
      "metadata": {
        "id": "IJt8JMDxKeOB"
      },
      "execution_count": 2,
      "outputs": []
    },
    {
      "cell_type": "markdown",
      "source": [
        "## **Use the `visualize_vti_output` function from `plot_3D_model.py` file to see the 3D output of the model**"
      ],
      "metadata": {
        "id": "IQZXRwQEMvVI"
      }
    },
    {
      "cell_type": "code",
      "source": [
        "from plot_3D_model import visualize_vti_output\n",
        "visualize_vti_output(filename = \"cylinder_half_space.vti\", orientation=\"xy\", opacity = 0.3, backend = 'static')"
      ],
      "metadata": {
        "colab": {
          "base_uri": "https://localhost:8080/",
          "height": 822
        },
        "id": "WMIeTIh5KJh2",
        "outputId": "bd5e6c41-7dbb-4b10-f929-144a60be9cec"
      },
      "execution_count": 3,
      "outputs": [
        {
          "output_type": "stream",
          "name": "stdout",
          "text": [
            "\n",
            "gprMax version: 4.0.0b0\n"
          ]
        },
        {
          "output_type": "display_data",
          "data": {
            "text/plain": [
              "<PIL.Image.Image image mode=RGB size=1024x768>"
            ],
            "image/png": "[encoded data removed]"
          },
          "metadata": {}
        }
      ]
    },
    {
      "cell_type": "code",
      "source": [],
      "metadata": {
        "id": "2BuRtj0zKZGi"
      },
      "execution_count": null,
      "outputs": []
    }
  ]
}